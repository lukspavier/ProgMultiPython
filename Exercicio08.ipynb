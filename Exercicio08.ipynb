{
 "cells": [
  {
   "cell_type": "markdown",
   "metadata": {
    "collapsed": true
   },
   "source": [
    "## Lista de Exercícios 8\n",
    "##### Lucas Spavier | RA: 816117862"
   ]
  },
  {
   "cell_type": "markdown",
   "metadata": {
    "collapsed": true
   },
   "source": [
    "1 Faça um Programa que peça o raio de um círculo, calcule e mostre sua área. "
   ]
  },
  {
   "cell_type": "code",
   "execution_count": 1,
   "metadata": {
    "collapsed": false,
    "scrolled": true
   },
   "outputs": [
    {
     "name": "stdout",
     "output_type": "stream",
     "text": [
      "Digite o raio do círculo 10\n",
      "O valor da área é 314.16\n"
     ]
    }
   ],
   "source": [
    "import math\n",
    "r = float( input('Digite o raio do círculo '))\n",
    "a = math.pi * r ** 2 \n",
    "print('O valor da área é %.2f' %a)"
   ]
  },
  {
   "cell_type": "markdown",
   "metadata": {},
   "source": [
    "2 Faça um Programa que calcule a área de um quadrado, em seguida mostre o dobro desta área para o usuário. \n",
    "\n"
   ]
  },
  {
   "cell_type": "code",
   "execution_count": 2,
   "metadata": {
    "collapsed": false
   },
   "outputs": [
    {
     "name": "stdout",
     "output_type": "stream",
     "text": [
      "Digite a altura/largura do quadrado 10\n",
      "A área do quadrado é 100.00\n"
     ]
    }
   ],
   "source": [
    "l = float( input('Digite a altura/largura do quadrado '))\n",
    "a = l**2\n",
    "print('A área do quadrado é %.2f' %a)"
   ]
  },
  {
   "cell_type": "markdown",
   "metadata": {},
   "source": [
    "3 Faça um Programa que pergunte quanto você ganha por hora e o número de horas trabalhadas no mês. Calcule e mostre o total do seu salário no referido mês. "
   ]
  },
  {
   "cell_type": "code",
   "execution_count": 3,
   "metadata": {
    "collapsed": false
   },
   "outputs": [
    {
     "name": "stdout",
     "output_type": "stream",
     "text": [
      "Quanto você ganha por hora? 10\n",
      "Quantas horas você trabalha por mês? 10\n",
      "Seu salário no mês é de 100.00\n"
     ]
    }
   ],
   "source": [
    "ganha = float( input('Quanto você ganha por hora? '))\n",
    "horas = float( input('Quantas horas você trabalha por mês? '))\n",
    "salario = horas * ganha\n",
    "print('Seu salário no mês é de %.2f' %salario)"
   ]
  },
  {
   "cell_type": "markdown",
   "metadata": {},
   "source": [
    "4 Faça um Programa que peça a temperatura em graus Farenheit, transforme e mostre a temperatura em graus Celsius. C = (5 * (F-32) / 9). "
   ]
  },
  {
   "cell_type": "code",
   "execution_count": 4,
   "metadata": {
    "collapsed": false
   },
   "outputs": [
    {
     "name": "stdout",
     "output_type": "stream",
     "text": [
      "Entre com a temperatura em Farenheit 10\n",
      "A temperatura em célsius é de: -12.22 c°\n"
     ]
    }
   ],
   "source": [
    "f = float(input('Entre com a temperatura em Farenheit '))\n",
    "c = (5 * (f - 32) / 9 )\n",
    "print('A temperatura em célsius é de: %.2f c°' %c )"
   ]
  },
  {
   "cell_type": "markdown",
   "metadata": {},
   "source": [
    "5 Faça um Programa que peça a temperatura em graus Celsius, transforme e mostre em graus Farenheit"
   ]
  },
  {
   "cell_type": "code",
   "execution_count": null,
   "metadata": {
    "collapsed": true
   },
   "outputs": [],
   "source": []
  },
  {
   "cell_type": "markdown",
   "metadata": {},
   "source": [
    "6 Faça um Programa que peça 2 números inteiros e um número real. Calcule e mostre: \n",
    "- o produto do dobro do primeiro com metade do segundo . \n",
    "- a soma do triplo do primeiro com o terceiro. \n",
    "- o terceiro elevado ao cubo. "
   ]
  },
  {
   "cell_type": "code",
   "execution_count": null,
   "metadata": {
    "collapsed": true
   },
   "outputs": [],
   "source": []
  },
  {
   "cell_type": "markdown",
   "metadata": {},
   "source": [
    "7 João Papo-de-Pescador, homem de bem, comprou um microcomputador para controlar o rendimento diário de seu trabalho. Toda vez que ele traz um peso de peixes maior que o estabelecido pelo regulamento de pesca do estado de São Paulo (50 quilos) deve pagar uma multa de R$ 4,00 por quilo excedente. João precisa que você faça um programa que leia a variável peso (peso de peixes) e verifique se há excesso. Se houver, gravar na variável excesso e na variável multa o valor da multa que João deverá pagar. Caso contrário mostrar tais variáveis com o conteúdo ZERO. \n"
   ]
  },
  {
   "cell_type": "code",
   "execution_count": null,
   "metadata": {
    "collapsed": true
   },
   "outputs": [],
   "source": []
  },
  {
   "cell_type": "markdown",
   "metadata": {},
   "source": [
    "8 Faça um Programa que pergunte quanto você ganha por hora e o número de horas trabalhadas no mês. Calcule e mostre o total do seu salário no referido mês, sabendo-se que são descontados 11% para o Imposto de Renda, 8% para o INSS e 5% para o sindicato, faça um programa que nos dê: \n",
    "- salário bruto. \n",
    "- quanto pagou ao INSS. \n",
    "- quanto pagou ao sindicato. \n",
    "- o salário líquido. \n",
    "- calcule os descontos e o salário líquido, conforme a tabela abaixo:\n",
    "+ **Salário Bruto : R$ - IR (11%) : R$ - INSS (8%) : R$ - Sindicato ( 5%) : R$ = Salário Liquido : R$ Obs.: Salário Bruto - Descontos = Salário Líquido. \n"
   ]
  },
  {
   "cell_type": "code",
   "execution_count": null,
   "metadata": {
    "collapsed": true
   },
   "outputs": [],
   "source": []
  },
  {
   "cell_type": "markdown",
   "metadata": {},
   "source": [
    "9 Faça um programa que leia 2 strings e informe o conteúdo delas seguido do seu comprimento. Informe também se as duas strings possuem o mesmo comprimento e são iguais ou diferentes no conteúdo. Exemplo:\n",
    "\n",
    "String 1: Brasil Hexa 2018 \n",
    "\n",
    "String 2: Brasil! Hexa 2018! \n",
    "\n",
    "Tamanho de \"Brasil Hexa 2018\": 16 caracteres \n",
    "\n",
    "Tamanho de \"Brasil! Hexa 2018!\": 18 caracteres \n",
    "\n",
    "As duas strings são de tamanhos diferentes. \n",
    "\n",
    "As duas strings possuem conteúdo diferente. "
   ]
  },
  {
   "cell_type": "code",
   "execution_count": null,
   "metadata": {
    "collapsed": true
   },
   "outputs": [],
   "source": []
  },
  {
   "cell_type": "markdown",
   "metadata": {},
   "source": [
    "\n",
    " 10 Faça um programa que permita ao usuário digitar o seu nome e em seguida mostre o nome do usuário de trás para frente utilizando somente letras maiúsculas. Dica: lembre−se que ao informar o nome o usuário pode digitar letras maiúsculas ou minúsculas. Observação: não use loops. "
   ]
  },
  {
   "cell_type": "code",
   "execution_count": 5,
   "metadata": {
    "collapsed": false
   },
   "outputs": [
    {
     "name": "stdout",
     "output_type": "stream",
     "text": [
      "Entre com seu nome 10\n"
     ]
    },
    {
     "data": {
      "text/plain": [
       "'01'"
      ]
     },
     "execution_count": 5,
     "metadata": {},
     "output_type": "execute_result"
    }
   ],
   "source": [
    "nome = input('Entre com seu nome ')\n",
    "nome[::-1]"
   ]
  },
  {
   "cell_type": "markdown",
   "metadata": {},
   "source": [
    "#### 11 Faça um programa que solicite a data de nascimento (dd/mm/aaaa) do usuário e imprima a data com o nome do mês por extenso. \n",
    "\n",
    "Data de Nascimento: 29/10/1973 \n",
    "\n",
    "Você nasceu em  29 de Outubro de 1973. \n",
    "\n",
    "Obs.: Não use desvio condicional nem loops. "
   ]
  },
  {
   "cell_type": "code",
   "execution_count": null,
   "metadata": {
    "collapsed": true
   },
   "outputs": [],
   "source": []
  },
  {
   "cell_type": "markdown",
   "metadata": {},
   "source": [
    "** 12**  Leet é uma forma de se escrever o alfabeto latino usando outros símbolos em lugar das letras, como números por exemplo. A própria palavra leet admite muitas variações, como l33t ou 1337. O uso do leet reflete uma subcultura relacionada ao mundo dos jogos de computador e internet, sendo muito usada para confundir os iniciantes e afirmar-se como parte de um grupo. Pesquise sobre as principais formas de traduzir as letras. Depois, faça um programa que peça uma texto e transforme-o para a grafia leet speak.\n",
    " \n",
    " Desafio: não use loops nem desvios condicionais"
   ]
  },
  {
   "cell_type": "code",
   "execution_count": null,
   "metadata": {
    "collapsed": true
   },
   "outputs": [],
   "source": []
  },
  {
   "cell_type": "markdown",
   "metadata": {},
   "source": [
    "#### 13 Crie um programa que recebe uma lista de números e \n",
    "- retorne o maior elemento \n",
    "- retorne a soma dos elementos \n",
    "- retorne o número de ocorrências do primeiro elemento da lista \n",
    "- retorne a média dos elementos \n",
    "- retorne o valor mais próximo da média dos elementos \n",
    "- retorne a soma dos elementos com valor negativo \n",
    "- retorne a quantidade de vizinhos iguais \n",
    " "
   ]
  },
  {
   "cell_type": "code",
   "execution_count": 34,
   "metadata": {
    "collapsed": false
   },
   "outputs": [
    {
     "name": "stdout",
     "output_type": "stream",
     "text": [
      "Maior = 10\n",
      "Soma = 66\n",
      "Ocorrências de 5 = 2\n",
      "Média = 4.714285714285714\n",
      "Valor mais próximo da média = 5\n"
     ]
    },
    {
     "data": {
      "text/plain": [
       "5"
      ]
     },
     "execution_count": 34,
     "metadata": {},
     "output_type": "execute_result"
    }
   ],
   "source": [
    "import math\n",
    "lista = [5, 2, 3, 4, 5, 1, 1, 1, 6, 7, 8, 9, 10, 4]\n",
    "\n",
    "print(f'Maior = {max(lista)}')\n",
    "\n",
    "print(f'Soma = {sum(lista)}')\n",
    "\n",
    "print(f'Ocorrências de {lista[0]} = {lista.count(lista[0])}')\n",
    "\n",
    "media = sum(lista)/len(lista)\n",
    "\n",
    "print(f'Média = {media}')\n",
    "\n",
    "proximo = [math.isclose(l,media,rel_tol = 1e-1, abs_tol=0.0) for l in lista]\n",
    "\n",
    "print(f'Valor mais próximo da média = {lista[proximo.index(True)]}')\n",
    "lista[proximo.index(True)]"
   ]
  },
  {
   "cell_type": "markdown",
   "metadata": {},
   "source": [
    "14"
   ]
  },
  {
   "cell_type": "code",
   "execution_count": null,
   "metadata": {
    "collapsed": true
   },
   "outputs": [],
   "source": []
  },
  {
   "cell_type": "markdown",
   "metadata": {},
   "source": [
    "15"
   ]
  },
  {
   "cell_type": "code",
   "execution_count": null,
   "metadata": {
    "collapsed": true
   },
   "outputs": [],
   "source": []
  },
  {
   "cell_type": "markdown",
   "metadata": {},
   "source": [
    "16"
   ]
  },
  {
   "cell_type": "code",
   "execution_count": null,
   "metadata": {
    "collapsed": true
   },
   "outputs": [],
   "source": []
  },
  {
   "cell_type": "markdown",
   "metadata": {},
   "source": [
    "17"
   ]
  }
 ],
 "metadata": {
  "kernelspec": {
   "display_name": "Python 3",
   "language": "python",
   "name": "python3"
  },
  "language_info": {
   "codemirror_mode": {
    "name": "ipython",
    "version": 3
   },
   "file_extension": ".py",
   "mimetype": "text/x-python",
   "name": "python",
   "nbconvert_exporter": "python",
   "pygments_lexer": "ipython3",
   "version": "3.6.0"
  }
 },
 "nbformat": 4,
 "nbformat_minor": 2
}
