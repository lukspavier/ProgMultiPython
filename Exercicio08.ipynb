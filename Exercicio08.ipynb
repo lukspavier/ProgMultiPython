{
 "cells": [
  {
   "cell_type": "markdown",
   "metadata": {},
   "source": [
    "## Lucas Spavier  RA:816117862 SIN3AN-MCA\n",
    "### Lista 8 "
   ]
  },
  {
   "cell_type": "markdown",
   "metadata": {},
   "source": [
    "1 Faça um Programa que peça o raio de um círculo, calcule e mostre sua área. "
   ]
  },
  {
   "cell_type": "code",
   "execution_count": null,
   "metadata": {
    "scrolled": true
   },
   "outputs": [],
   "source": [
    "import math\n",
    "\n",
    "raio = int(input('Digite o raio do círculo '))\n",
    "area = math.pi * raio ** 2\n",
    "print('A área do círculo é {0:.2f}'.format(area))"
   ]
  },
  {
   "cell_type": "markdown",
   "metadata": {},
   "source": [
    "2 Faça um Programa que calcule a área de um quadrado, em seguida mostre o dobro desta área para o usuário. "
   ]
  },
  {
   "cell_type": "code",
   "execution_count": null,
   "metadata": {},
   "outputs": [],
   "source": [
    "lado_a = 15\n",
    "lado_b = 15\n",
    "\n",
    "area = lado_a * lado_b\n",
    "print('A área do quadrado é {}'.format(area))"
   ]
  },
  {
   "cell_type": "markdown",
   "metadata": {},
   "source": [
    "3 Faça um Programa que pergunte quanto você ganha por hora e o número de horas trabalhadas no mês. Calcule e mostre o total do seu salário no referido mês. "
   ]
  },
  {
   "cell_type": "code",
   "execution_count": null,
   "metadata": {},
   "outputs": [],
   "source": [
    "valor_hora = int(input('Quanto você ganha por hora? '))\n",
    "horas_mes = int(input('Quantas horas você trabalha por mês? '))\n",
    "salario = valor_hora * horas_mes\n",
    "print('seu salário é {}'.format(salario))"
   ]
  },
  {
   "cell_type": "markdown",
   "metadata": {},
   "source": [
    "4 Faça um Programa que peça a temperatura em graus Farenheit, transforme e mostre a temperatura em graus Celsius. C = (5 * (F-32) / 9). "
   ]
  },
  {
   "cell_type": "code",
   "execution_count": null,
   "metadata": {},
   "outputs": [],
   "source": [
    "f = 87\n",
    "c = (5 * (f-32)/9)\n",
    "print(f\"a Temperatura é de {c:.2f} graus Celsius.\")"
   ]
  },
  {
   "cell_type": "markdown",
   "metadata": {},
   "source": [
    "5 Faça um Programa que peça a temperatura em graus Celsius, transforme e mostre em graus Farenheit. "
   ]
  },
  {
   "cell_type": "code",
   "execution_count": null,
   "metadata": {},
   "outputs": [],
   "source": [
    "c = 23\n",
    "f = (c * 1.8000)+32.00\n",
    "print(f\"a Temperatura é de {f:.2f} graus Farenheit.\")"
   ]
  },
  {
   "cell_type": "markdown",
   "metadata": {},
   "source": [
    "6 Faça um Programa que peça 2 números inteiros e um número real. Calcule e mostre: - o produto do dobro do primeiro com metade do segundo . - a soma do triplo do primeiro com o terceiro. - o terceiro elevado ao cubo. "
   ]
  },
  {
   "cell_type": "code",
   "execution_count": null,
   "metadata": {},
   "outputs": [],
   "source": [
    "numero_int1 = int(input('Digite um numero inteiro! '))\n",
    "numero_int2 = int(input('Digite outro numero inteiro! '))\n",
    "numero_double = float(input('Digite outro numero decimal! '))\n",
    "\n",
    "prod = (numero_int1*2)*(numero_int2/2)\n",
    "print(\"produto do dobro do primeiro com a metade do segundo {}\".format(prod))\n",
    "\n",
    "som = (numero_int1*3)+numero_double\n",
    "print(\"a soma do triplo do primeiro com o terceiro {}\".format(som))\n",
    "\n",
    "elevado_ao_cubo = numero_double ** 3\n",
    "print(\"o terceiro ao cubo {}\".format(elevado_ao_cubo))"
   ]
  },
  {
   "cell_type": "markdown",
   "metadata": {},
   "source": [
    "7 João Papo-de-Pescador, homem de bem, comprou um microcomputador para controlar o rendimento diário de seu trabalho. Toda vez que ele traz um peso de peixes maior que o estabelecido pelo regulamento de pesca do estado de São Paulo (50 quilos) deve pagar uma multa de R$ 4,00 por quilo excedente. João precisa que você faça um programa que leia a variável peso (peso de peixes) e verifique se há excesso. Se houver, gravar na variável excesso e na variável multa o valor da multa que João deverá pagar. Caso contrário mostrar tais variáveis com o conteúdo ZERO. "
   ]
  },
  {
   "cell_type": "code",
   "execution_count": null,
   "metadata": {},
   "outputs": [],
   "source": [
    "excesso = 0\n",
    "multa = 0\n",
    "\n",
    "peso_peixes = int(input('Quantos kg foi pescado? '))\n",
    "if peso_peixes > 50:\n",
    " excesso = peso_peixes - 50\n",
    " multa = excesso * 4.00\n",
    " print(\"Excesso: {}\".format(excesso))\n",
    " print(\"Multa: {}\".format(multa))\n",
    "else : \n",
    " print(\"Excesso: {}\".format(excesso))\n",
    " print(\"Multa: {}\".format(multa))"
   ]
  },
  {
   "cell_type": "markdown",
   "metadata": {},
   "source": [
    "8 Faça um Programa que pergunte quanto você ganha por hora e o número de horas trabalhadas no mês. Calcule e mostre o total do seu salário no referido mês, sabendo-se que são descontados 11% para o Imposto de Renda, 8% para o INSS e 5% para o sindicato, faça um programa que nos dê: - salário bruto. - quanto pagou ao INSS. - quanto pagou ao sindicato. - o salário líquido. - calcule os descontos e o salário líquido, conforme a tabela abaixo:            + Salário Bruto : R$            - IR (11%) : R$            - INSS (8%) : R$            - Sindicato ( 5%) : R$            = Salário Liquido : R$ Obs.: Salário Bruto - Descontos = Salário Líquido. "
   ]
  },
  {
   "cell_type": "code",
   "execution_count": null,
   "metadata": {},
   "outputs": [],
   "source": [
    "valor_hora = int(input('Quanto você ganha por hora? '))\n",
    "horas_mes = int(input('Quantas horas você trabalha por mês? '))\n",
    "\n",
    "salario_bruto = float(valor_hora * horas_mes)\n",
    "renda = float(salario_bruto * 0.11)\n",
    "inss = float(salario_bruto * 0.08)\n",
    "sindicato = float(salario_bruto * 0.05)\n",
    "salario_liquido = float(   (((valor_hora * horas_mes)-renda)-inss)-sindicato )\n",
    "\n",
    "print('seu salário bruto {}'.format(salario_bruto))\n",
    "print('Pago de imposto de renda {}'.format(renda))\n",
    "print('Pago de inss {}'.format(inss))\n",
    "print('PAgo ao sindicato {}'.format(sindicato))\n",
    "print('seu salário liquido {}'.format(salario_liquido))"
   ]
  },
  {
   "cell_type": "markdown",
   "metadata": {},
   "source": [
    "9 Faça um programa que leia 2 strings e informe o conteúdo delas seguido do seu comprimento. Informe também se as duas strings possuem o mesmo comprimento e são iguais ou diferentes no conteúdo. Exemplo: String 1: Brasil Hexa 2018 String 2: Brasil! Hexa 2018! Tamanho de \"Brasil Hexa 2018\": 16 caracteres Tamanho de \"Brasil! Hexa 2018!\": 18 caracteres As duas strings são de tamanhos diferentes. As duas strings possuem conteúdo diferente. "
   ]
  },
  {
   "cell_type": "code",
   "execution_count": null,
   "metadata": {},
   "outputs": [],
   "source": [
    "str1 = str(input('Frase1! '))\n",
    "str2 = str(input('Frase2! '))\n",
    "\n",
    "print(\"frase 1 {}\".format(str1))\n",
    "print(\"Comprimento\")\n",
    "print(len(str1))\n",
    "\n",
    "print(\"frase 2 {}\".format(str2))\n",
    "print(\"Comprimento\")\n",
    "print(len(str2))\n"
   ]
  },
  {
   "cell_type": "markdown",
   "metadata": {},
   "source": []
  },
  {
   "cell_type": "code",
   "execution_count": null,
   "metadata": {},
   "outputs": [],
   "source": [
    "\n"
   ]
  },
  {
   "cell_type": "markdown",
   "metadata": {},
   "source": [
    "10 Faça um programa que permita ao usuário digitar o seu nome e em seguida mostre o nome do usuário de trás para frente utilizando somente letras maiúsculas. Dica: lembre−se que ao informar o nome o usuário pode digitar letras maiúsculas ou minúsculas. Observação: não use loops. "
   ]
  },
  {
   "cell_type": "code",
   "execution_count": null,
   "metadata": {},
   "outputs": [],
   "source": [
    "nome = input('Entre com seu nome: ')\n",
    "print(nome[ ::-1].upper())"
   ]
  },
  {
   "cell_type": "markdown",
   "metadata": {},
   "source": [
    "11 - Faça um programa que solicite a data de nascimento (dd/mm/aaaa) do usuário e imprima a data com o nome do mês por extenso. Data de Nascimento: 29/10/1973 Você nasceu em 29 de Outubro de 1973. Obs.: Não use desvio condicional nem loops.\n"
   ]
  },
  {
   "cell_type": "code",
   "execution_count": null,
   "metadata": {},
   "outputs": [],
   "source": [
    "data = input (\"Digite sua data de nascimento: \")\n",
    "dia,mes,ano = data.split('/')\n",
    "print(dia, mes, ano)\n",
    "mes_todos = {'01':'janeiro',\n",
    "             '02':'fevereiro',\n",
    "             '03':'março',\n",
    "             '04':'abril',\n",
    "             '05':'maio',\n",
    "             '06':'junho',\n",
    "             '07':'julho',\n",
    "             '08':'agosto',\n",
    "             '09':'setembro',\n",
    "             '10':\"outubro\",\n",
    "             '11':'novembro',\n",
    "             '12':'dezembro'\n",
    "            }\n",
    "mes_escrito = mes_todos[mes]\n",
    "print(f\"Você nasceu no dia {dia} de {mes_escrito} de {ano}\")"
   ]
  },
  {
   "cell_type": "markdown",
   "metadata": {},
   "source": [
    "12- Leet é uma forma de se escrever o alfabeto latino usando outros símbolos em lugar das letras, como números por exemplo. A própria palavra leet admite muitas variações, como l33t ou 1337. O uso do leet reflete uma subcultura relacionada ao mundo dos jogos de computador e internet, sendo muito usada para confundir os iniciantes e afirmar-se como parte de um grupo. Pesquise sobre as principais formas de traduzir as letras. Depois, faça um programa que peça uma texto e transforme-o para a grafia leet speak. Desafio: não use loops nem desvios condicionais."
   ]
  },
  {
   "cell_type": "code",
   "execution_count": null,
   "metadata": {},
   "outputs": [],
   "source": [
    "texto = input(\"Digite uma palavra \")\n",
    "texto = texto.replace('a','4')\n",
    "texto = texto.replace('b','ß')\n",
    "texto = texto.replace('c','[')\n",
    "texto = texto.replace('d','|))')\n",
    "texto = texto.replace('e',' €')\n",
    "texto = texto.replace('f','|=')\n",
    "texto = texto.replace('g','6')\n",
    "texto = texto.replace('h','#')\n",
    "texto = texto.replace('i','1')\n",
    "texto = texto.replace('j','j')\n",
    "texto = texto.replace('k','X')\n",
    "texto = texto.replace('l','1')\n",
    "texto = texto.replace('m','^^')\n",
    "texto = texto.replace('n','//')\n",
    "texto = texto.replace('o','0')\n",
    "texto = texto.replace('p','|^')\n",
    "texto = texto.replace('q','q')\n",
    "texto = texto.replace('r','|2')\n",
    "texto = texto.replace('s','5')\n",
    "texto = texto.replace('t','7')\n",
    "texto = texto.replace('u','(_)')\n",
    "texto = texto.replace('v','\\/')\n",
    "texto = texto.replace('w','\\/\\/')\n",
    "texto = texto.replace('x','><')\n",
    "texto = texto.replace('y','Y')\n",
    "texto = texto.replace('z','2')\n",
    "print(texto)"
   ]
  },
  {
   "cell_type": "markdown",
   "metadata": {},
   "source": [
    "#### 13 Crie um programa que recebe uma lista de números e \n",
    "- retorne o maior elemento \n",
    "- retorne a soma dos elementos \n",
    "- retorne o número de ocorrências do primeiro elemento da lista \n",
    "- retorne a média dos elementos - retorne o valor mais próximo da média dos elementos \n",
    "- retorne a soma dos elementos com valor negativo - retorne a quantidade de vizinhos iguais \n"
   ]
  },
  {
   "cell_type": "code",
   "execution_count": null,
   "metadata": {},
   "outputs": [],
   "source": [
    "import math\n",
    "\n",
    "num = [22,24,26,28,110]\n",
    "soma = 0\n",
    "for n in num:  \n",
    "    soma = sum(num)\n",
    "    maior = max(num)\n",
    "    p = num[0]\n",
    "    media = soma/len(num)\n",
    "    if media >= n:\n",
    "        prox = n\n",
    "    print(\"Maior: {} Soma: {} Primeiro: {} Média: {} Próximo {} Negativo: -{}\".format(maior, soma, p, media, prox, media))"
   ]
  },
  {
   "cell_type": "markdown",
   "metadata": {},
   "source": [
    "14 - Faça um programa que receba duas listas e retorne True se têm os mesmos elementos ou False caso contrário Duas listas possuem os mesmos elementos quando são compostas pelos mesmos valores, mas não obrigatoriamente na mesma ordem."
   ]
  },
  {
   "cell_type": "code",
   "execution_count": null,
   "metadata": {},
   "outputs": [],
   "source": [
    "lista01 = [input(\"Digite os valores da primeira lista: \")]\n",
    "lista02 = [input(\"Digite os valores da segunda lista: \")]\n",
    "lista01[:len(lista01)] == lista02[:len(lista02)]"
   ]
  },
  {
   "cell_type": "markdown",
   "metadata": {},
   "source": [
    "16 - Faça um programa que percorre uma lista com o seguinte formato: [['Brasil', 'Italia', [10, 9]], ['Brasil', 'Espanha', [5, 7]], ['Italia', 'Espanha', [7,8]]]. Essa lista indica o número de faltas que cada time fez em cada jogo. Na lista acima, no jogo entre Brasil e Itália, o Brasil fez 10 faltas e a Itália fez 9. O programa deve imprimir na tela:\n",
    "\n",
    "o total de faltas do campeonato\n",
    "o time que fez mais faltas\n",
    "o time que fez menos faltas"
   ]
  },
  {
   "cell_type": "code",
   "execution_count": null,
   "metadata": {},
   "outputs": [],
   "source": [
    "mais_faltas = {'Brasil':15,'Italia':16,'Espanha':14}\n",
    "soma =sum(mais_faltas.values())\n",
    "maior = max(mais_faltas.values())\n",
    "menor = min(mais_faltas.values())\n",
    "print(\"Total de faltas do campeonato: {} \\nMaior: {} \\nMenor: {}\".format(soma,maior,menor))"
   ]
  },
  {
   "cell_type": "markdown",
   "metadata": {},
   "source": [
    "17 - Escreva um programa que conta a quantidade de vogais em uma string e armazena tal quantidade em um dicionário, onde a chave é a vogal considerada."
   ]
  },
  {
   "cell_type": "code",
   "execution_count": null,
   "metadata": {},
   "outputs": [],
   "source": [
    "text_vogais = input(\"Digite uma palavra: \")\n",
    "print(text_vogais)\n",
    "a = text_vogais.count(\"a\")\n",
    "e = text_vogais.count(\"e\")\n",
    "i = text_vogais.count(\"i\")\n",
    "o = text_vogais.count(\"o\")\n",
    "u = text_vogais.count(\"u\")\n",
    "dic = {'a':a,'e':e,'i':i,'o':o,'u':u}\n",
    "print(dic)"
   ]
  },
  {
   "cell_type": "markdown",
   "metadata": {},
   "source": [
    "18 - Escreva um programa que lê̂duas notas de vários alunos e armazena tais notas em um dicionário, onde a chave é o nome do aluno. A entrada de dados deve terminar quando for lida uma string vazia como nome. Escreva uma função que retorna a média do aluno, dado seu nome."
   ]
  },
  {
   "cell_type": "code",
   "execution_count": null,
   "metadata": {},
   "outputs": [],
   "source": [
    "notas = {\"Lucas\":[10.0,9.0], \"Spavier\":[10.0,8.5]}\n",
    "aluno = notas.get(input(\"Digite o nome do aluno: \"))\n",
    "nota = float((aluno[0] + aluno[1])/2)\n",
    "print(\"A média do aluno é: %.2f\" % nota)"
   ]
  },
  {
   "cell_type": "markdown",
   "metadata": {},
   "source": [
    "19 - Uma pista de Kart permite 10 voltas para cada um de 6 corredores. Escreva um programa que leia todos os tempos em segundos e os guarde em um dicionário, onde a chave é o nome do corredor. Ao final diga de quem foi a melhor volta da prova e em que volta; e ainda a classificação final em ordem (1o o campeão). O campeão é o que tem a menor média de tempos."
   ]
  },
  {
   "cell_type": "code",
   "execution_count": null,
   "metadata": {},
   "outputs": [],
   "source": [
    "nome = input(\"Digite o nome do piloto: \")\n",
    "kart = [nome]\n",
    "tempo = float(input(\"Digite o tempo do piloto: \"))\n",
    "kart.append(tempo)\n",
    "print(\"Campeão: {}\".format(kart))"
   ]
  },
  {
   "cell_type": "markdown",
   "metadata": {},
   "source": [
    "20 - Escreva um programa para armazenar uma agenda de telefones em um dicionário. Cada pessoa pode ter um ou mais telefones e a chave do dicionário é o nome da pessoa. Seu programa deve ter as seguintes funções:\n",
    "\n",
    "incluirNovoNome – essa função acrescenta um novo nome na agenda, com um ou mais telefones. Ela deve receber como argumentos o nome e os telefones.\n",
    "incluirTelefone – essa função acrescenta um telefone em um nome existente na agenda. Caso o nome não exista na agenda, você̂deve perguntar se a pessoa deseja inclui-lo. Caso a resposta seja afirmativa, use a função anterior para incluir o novo nome.\n",
    "excluirTelefone – essa função exclui um telefone de uma pessoa que já está na agenda. Se a pessoa tiver apenas um telefone, ela deve ser excluída da agenda.\n",
    "excluirNome – essa função exclui uma pessoa da agenda.\n",
    "consultarTelefone – essa função retorna os telefones de uma pessoa na agenda."
   ]
  },
  {
   "cell_type": "code",
   "execution_count": null,
   "metadata": {},
   "outputs": [],
   "source": [
    "\n",
    "lista_telefone  = {'Lucas':26821822,'Spavier':26821822}\n",
    "nome = input(\"Remova um contato: \")\n",
    "lista_telefone.pop(nome)\n",
    "\n",
    "print(lista_telefone)"
   ]
  },
  {
   "cell_type": "markdown",
   "metadata": {},
   "source": [
    "22 - Faça um programa que leia um arquivo texto contendo uma lista de endereços IP e gere um outro arquivo, contendo um relatório dos endereços IP válidos e inválidos. O arquivo de entrada possui o seguinte formato: 200.135.80.9 192.168.1.1 8.35.67.74 257.32.4.5 85.345.1.2 1.2.3.4 9.8.234.5 192.168.0.256 O arquivo de saída possui o seguinte formato: [Endereços válidos:] 200.135.80.9 192.168.1.1 8.35.67.74 1.2.3.4 [Endereços inválidos:] 257.32.4.5 85.345.1.2 9.8.234.5 192.168.0.256"
   ]
  },
  {
   "cell_type": "code",
   "execution_count": null,
   "metadata": {},
   "outputs": [],
   "source": [
    "%%writefile my_file.txt\n",
    "my_file.write('Válidos 200.135.80.9 192.168.1.1 8.35.67.74 1.2.3.4')\n",
    "my_file.write('Inválidos 257.32.4.5 85.345.1.2 9.8.234.5 192.168.0.256')\n",
    "print(my_file.read())"
   ]
  },
  {
   "cell_type": "markdown",
   "metadata": {},
   "source": [
    "22 - A ACME Inc., uma empresa de 500 funcionários, está tendo problemas de espaço em disco no seu servidor de arquivos. Para tentar resolver este problema, o Administrador de Rede precisa saber qual o espaço ocupado pelos usuários, e identificar os usuários com maior espaço ocupado. Através de um programa, baixado da Internet, ele conseguiu gerar o seguinte arquivo, chamado \"usuarios.txt\":"
   ]
  },
  {
   "cell_type": "code",
   "execution_count": null,
   "metadata": {},
   "outputs": [],
   "source": [
    "%%writefile relatório.txt\n",
    "ACME Inc. Uso do espaço em disco pelos usuários\n",
    "--------------------------------------------------------------\n",
    "----------\n",
    "Nr. Usuário Espaço utilizado % do uso\n",
    "1 alexandre 934,99 MB 16,85%\n",
    "2 anderson 1987,99 MB 46,02%\n",
    "3 bill 17,73 MB 4,56%\n",
    "4 carlos 97,03 MB 3,37%\n",
    "5 ceroc 0,24 MB 0,04%\n",
    "6 robson 752,88 MB 29,16%\n",
    "Espaço total ocupado: 2581,57 MB\n",
    "Espaço médio ocupado: 430,26 MB\n",
    "    \n",
    "print(my_file.read())\n",
    "Writing relatório.txt"
   ]
  },
  {
   "cell_type": "code",
   "execution_count": null,
   "metadata": {},
   "outputs": [],
   "source": []
  }
 ],
 "metadata": {
  "kernelspec": {
   "display_name": "Python 3",
   "language": "python",
   "name": "python3"
  },
  "language_info": {
   "codemirror_mode": {
    "name": "ipython",
    "version": 3
   },
   "file_extension": ".py",
   "mimetype": "text/x-python",
   "name": "python",
   "nbconvert_exporter": "python",
   "pygments_lexer": "ipython3",
   "version": "3.6.5"
  }
 },
 "nbformat": 4,
 "nbformat_minor": 2
}
